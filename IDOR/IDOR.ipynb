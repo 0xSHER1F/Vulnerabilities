{
 "cells": [
  {
   "cell_type": "markdown",
   "metadata": {},
   "source": [
    "# **IDOR (Insecure Direct Object Reference) :**\n",
    "\n",
    " * **```IDOR is a subclass of access control vulnerabilities, where an attacker can access, modify, or delete resources by manipulating the input parameters that directly reference objects (like files, records, or database entries) without proper authorization checks```**\n",
    "\n",
    "\n",
    " * **How IDORs Work ?**\n",
    "\n",
    "     * Apps uses predictable identifiers (user IDs, file paths) to access resources, Attacker can manipulates the identifier in the URL or form data to access unauthorized resources, Then application fails to validate or sanitize the user-supplied input, allowing the attacker to access the requested resource\n",
    "\n",
    "---\n",
    "\n",
    " * **Example :**\n",
    "\n",
    "     * Assume There is a URL for accessing user profile data **```https://example.com/profile?id=1```** , Where **```id=1```** is the unique identifier for the user's profile \n",
    "\n",
    "     * If the application doesn't validate that the requesting user is allowed to access this profile, an attacker might change the **```id```** parameter to another value, such as **```id=2```**, and access someone else's profile data\n",
    "\n",
    "***\n",
    "\n",
    " * **Ways to Get IDORs :**\n",
    "\n",
    "     1) **URL Manipulation :** Changing the URL parameter to access restricted data, as shown in The Previous Example \n",
    "\n",
    "     2) **Form Field Manipulation :**  Altering hidden form fields that reference an object, such as changing a form's product ID to another value during checkout\n",
    "\n",
    "     3) **API Manipulation :** API might allow users to perform actions on specific resources by referencing an object ID in the request. If the API doesn’t validate the user's access rights, it can be exploited via IDOR\n",
    "\n",
    "     4) **File Reference :** Accessing or modifying a file by guessing or changing the file path or name in the request URL or body\n",
    "-----     "
   ]
  },
  {
   "cell_type": "markdown",
   "metadata": {},
   "source": [
    "* **Impact of IDORs :**\n",
    "\n",
    "     * **Data Exposure :**\n",
    "\n",
    "         * Attackers can access sensitive data, such as personal information, financial data, or intellectual property   \n",
    "\n",
    "     * **Unauthorized Actions :**\n",
    "\n",
    "         * Attackers can perform unauthorized actions, such as deleting or modifying data\n",
    "\n",
    "     * **Privilege Escalation :**\n",
    "\n",
    "         * Attackers can gain higher privileges and access more sensitive resources\n",
    "\n",
    "----                  "
   ]
  },
  {
   "cell_type": "markdown",
   "metadata": {},
   "source": [
    "* **How to Prevent IDORs ?**\n",
    "\n",
    " 1) **Proper Input Validation :**\n",
    "\n",
    "     * Always validate and sanitize user-supplied input to prevent attackers from manipulating identifiers\n",
    "\n",
    " 2) **Use Secure Identifiers :**\n",
    "\n",
    "     * Use unpredictable or encrypted identifiers to make it difficult for attackers to guess or manipulate them\n",
    "\n",
    " 3) **Implement Access Control Checks :**\n",
    "\n",
    "     * Validate user permissions before allowing access to any object. Ensure that the user is authorized to access or modify the requested object\n",
    "-----\n",
    "****\n",
    "----"
   ]
  },
  {
   "cell_type": "markdown",
   "metadata": {},
   "source": [
    "# **PortSwigger Lab :-**\n",
    "\n",
    " * <a href=\"https://portswigger.net/web-security/access-control/lab-insecure-direct-object-references\" target=\"_blank\">Access The Lab Here</a>\n",
    "\n",
    " * **Lab's Objective :** Find the password for the user carlos, and logging into their account\n",
    "\n",
    " * **Given :** lab stores user chat logs directly on the server's file system, and retrieves them using static URLs\n",
    "\n",
    "---\n",
    "**```Solution Steps```**\n",
    "***\n",
    "\n",
    " * Go to **```Live chat```** Page \n",
    "\n",
    " * Write Any Message and Hit **```Send```** Button \n",
    "\n",
    " * Now Hit **```View transcript```** There is a File Named **```2.txt```** Will Be Downloaded\n",
    "    \n",
    "     * This File Contains user chat logs \n",
    " \n",
    " * Open Burp's HTTP History and Get **```GET /download-transcript/2.txt```** , Send This Request to Repeater :\n",
    "\n",
    "     * Change **```2.txt```** to **```1.txt```** and Send The Request  :\n",
    "\n",
    "         * Notice That You Have Retrieved a Chat Between Another User (carlos) , Who Wants To Remember His Password and His Password is There in Plain Text Format  \n",
    "\n",
    "         * Take This Password and Log into Carlos's Account \n",
    "\n",
    "\n"
   ]
  }
 ],
 "metadata": {
  "language_info": {
   "name": "python"
  }
 },
 "nbformat": 4,
 "nbformat_minor": 2
}
